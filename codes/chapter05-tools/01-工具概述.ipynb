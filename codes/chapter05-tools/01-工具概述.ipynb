{
 "cells": [
  {
   "metadata": {},
   "cell_type": "markdown",
   "source": [
    "# 工具介绍\n",
    "\n",
    "大模型现有的能力只是“纸上谈兵”，这些能力自然是不够的。工具Tools的出现让大模型天马行空的想象力有了落地实现的能力，让AI应用的能力具备了无限可能，从“认识世界”真正走向“改变世界”。\n",
    "\n",
    "\n",
    "\n"
   ],
   "id": "7ddaeee7cc214253"
  },
  {
   "metadata": {},
   "cell_type": "code",
   "outputs": [],
   "execution_count": null,
   "source": "",
   "id": "7768f5e686618adc"
  }
 ],
 "metadata": {
  "kernelspec": {
   "display_name": "Python 3",
   "language": "python",
   "name": "python3"
  },
  "language_info": {
   "codemirror_mode": {
    "name": "ipython",
    "version": 2
   },
   "file_extension": ".py",
   "mimetype": "text/x-python",
   "name": "python",
   "nbconvert_exporter": "python",
   "pygments_lexer": "ipython2",
   "version": "2.7.6"
  }
 },
 "nbformat": 4,
 "nbformat_minor": 5
}
