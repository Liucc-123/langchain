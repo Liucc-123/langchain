{
 "cells": [
  {
   "cell_type": "code",
   "execution_count": null,
   "id": "initial_id",
   "metadata": {
    "collapsed": true
   },
   "outputs": [],
   "source": [
    ""
   ]
  },
  {
   "metadata": {},
   "cell_type": "markdown",
   "source": [
    "# 概述\n",
    "LangChain提供了两种定义工具的方式：\n",
    "\n",
    "第一种：使用`@tool`装饰器（自定义工具的最简单方式）\n",
    "\n",
    "装饰器默认使用`函数名称`作为工具名称，但可以通过参数 `name_or_callable` 来修改默认值。\n",
    "\n",
    "同时，装饰器默认使用函数的 `文档字符串` 作为工具的描述 ，因此函数必须提供文档字符串。\n",
    "\n",
    "\n",
    "第二种：使用`StructuredTool.from_function`方法来定义工具。\n",
    "这类似于 @tool 装饰器，但允许更多配置和同步/异步实现的规范。\n",
    "\n"
   ],
   "id": "537cd461f9e4691f"
  },
  {
   "metadata": {},
   "cell_type": "markdown",
   "source": [
    "Tool的几个常用属性说明：\n",
    "\n",
    "|属性|类型|描述|\n",
    "|--|--|--|\n",
    "|name|str|工具名称，必选的 ，在提供给LLM或Agent的工具集中必须是唯一的。\n",
    "|description|str|工具描述，可选但建议，方便LLM或Agent理解工具的作用以确定是否要使用。\n",
    "|args_schema|Pydantic BaseModel|可选但建议，可用于提供更多信息（例如，few-shot示例）或验证预期参数。\n",
    "|return_direct|bool|可选，仅对Agent相关。当为True时，工具调用结果直接返回给用户；当为False时，工具调用结果将返回给Agent（LLM）。"
   ],
   "id": "4a5d457fa8e2a9a3"
  },
  {
   "metadata": {},
   "cell_type": "markdown",
   "source": [
    "# 自定义工具代码实现\n",
    "## 方式1：@tool 装饰器\n",
    "举例1：tool的默认参数"
   ],
   "id": "b588806e7cd83009"
  },
  {
   "metadata": {
    "ExecuteTime": {
     "end_time": "2025-10-25T10:26:03.929257Z",
     "start_time": "2025-10-25T10:26:03.923974Z"
    }
   },
   "cell_type": "code",
   "source": [
    "import json\n",
    "\n",
    "from langchain_core.tools import tool\n",
    "\n",
    "\n",
    "@tool\n",
    "def add_numbers(a: int, b: int) -> int:\n",
    "    \"\"\"Add two numbers together.\"\"\"\n",
    "    return a + b\n",
    "\n",
    "\n",
    "print(f\"name: {add_numbers.name}\")\n",
    "print(f\"description: {add_numbers.description}\")\n",
    "print(f\"args: {add_numbers.args}\")\n",
    "print(f\"return_direct: {add_numbers.return_direct}\")"
   ],
   "id": "22a5c2be17833c82",
   "outputs": [
    {
     "name": "stdout",
     "output_type": "stream",
     "text": [
      "name: add_numbers\n",
      "description: Add two numbers together.\n",
      "args: {'a': {'title': 'A', 'type': 'integer'}, 'b': {'title': 'B', 'type': 'integer'}}\n",
      "return_direct: False\n"
     ]
    }
   ],
   "execution_count": 3
  },
  {
   "metadata": {},
   "cell_type": "markdown",
   "source": "举例2：通过@tool的参数设置修改默认值",
   "id": "9f22243baacd2ac2"
  },
  {
   "metadata": {
    "ExecuteTime": {
     "end_time": "2025-10-25T10:31:39.282107Z",
     "start_time": "2025-10-25T10:31:39.276949Z"
    }
   },
   "cell_type": "code",
   "source": [
    "from pydantic import BaseModel, Field\n",
    "from langchain_core.tools import tool\n",
    "\n",
    "\n",
    "# 工具参数描述\n",
    "class FieldInfo(BaseModel):\n",
    "    a: int = Field(description=\"第一个参数\")\n",
    "    b: int = Field(description=\"第二个参数\")\n",
    "\n",
    "\n",
    "# 定义工具\n",
    "@tool(\n",
    "    name_or_callable=\"add_two_numbers2\",\n",
    "    description=\"Add two numbers together2.\",\n",
    "    return_direct=True,\n",
    "    args_schema=FieldInfo\n",
    ")\n",
    "def add_numbers(a: int, b: int) -> int:\n",
    "    \"\"\"Add two numbers together.\"\"\"\n",
    "    return a + b\n",
    "\n",
    "\n",
    "print(f\"name: {add_numbers.name}\")\n",
    "print(f\"description: {add_numbers.description}\")\n",
    "print(f\"args: {add_numbers.args}\")\n",
    "print(f\"return_direct: {add_numbers.return_direct}\")"
   ],
   "id": "a5e206e9812030bd",
   "outputs": [
    {
     "name": "stdout",
     "output_type": "stream",
     "text": [
      "name: add_two_numbers2\n",
      "description: Add two numbers together2.\n",
      "args: {'a': {'description': '第一个参数', 'title': 'A', 'type': 'integer'}, 'b': {'description': '第二个参数', 'title': 'B', 'type': 'integer'}}\n",
      "return_direct: True\n"
     ]
    }
   ],
   "execution_count": 4
  },
  {
   "metadata": {},
   "cell_type": "markdown",
   "source": [
    "## 方式2：StructuredTool的from_function()\n",
    "`StructuredTool.from_function` 类方法提供了比 `@tool` 装饰器更多的可配置性，而无需太多额外的代码。\n",
    "\n",
    "举例1："
   ],
   "id": "6305638d904abf6e"
  },
  {
   "metadata": {
    "ExecuteTime": {
     "end_time": "2025-10-25T10:33:55.302090Z",
     "start_time": "2025-10-25T10:33:55.294063Z"
    }
   },
   "cell_type": "code",
   "source": [
    "from langchain_core.tools import StructuredTool\n",
    "\n",
    "\n",
    "# 自定义函数\n",
    "def search_function(query: str):\n",
    "    return \"LangChain\"\n",
    "\n",
    "\n",
    "# 将自定义函数包装为工具\n",
    "search1 = StructuredTool.from_function(\n",
    "    func=search_function,\n",
    "    name=\"Search\",\n",
    "    description=\"useful for when you need to answer questions about current events\"\n",
    ")\n",
    "\n",
    "print(f\"name = {search1.name}\")\n",
    "print(f\"description = {search1.description}\")\n",
    "print(f\"args = {search1.args}\")\n",
    "# 调用工具\n",
    "search1.invoke(\"hello\")"
   ],
   "id": "7ab5cafc4f50d9f7",
   "outputs": [
    {
     "name": "stdout",
     "output_type": "stream",
     "text": [
      "name = Search\n",
      "description = useful for when you need to answer questions about current events\n",
      "args = {'query': {'title': 'Query', 'type': 'string'}}\n"
     ]
    },
    {
     "data": {
      "text/plain": [
       "'LangChain'"
      ]
     },
     "execution_count": 5,
     "metadata": {},
     "output_type": "execute_result"
    }
   ],
   "execution_count": 5
  },
  {
   "metadata": {},
   "cell_type": "markdown",
   "source": "举例2：",
   "id": "7dc7000703407c57"
  },
  {
   "metadata": {
    "ExecuteTime": {
     "end_time": "2025-10-25T10:35:57.601762Z",
     "start_time": "2025-10-25T10:35:57.595364Z"
    }
   },
   "cell_type": "code",
   "source": [
    "from langchain_core.tools import StructuredTool\n",
    "from pydantic import Field, BaseModel\n",
    "\n",
    "\n",
    "# 工具参数描述\n",
    "class FieldInfo(BaseModel):\n",
    "    query: str = Field(description=\"要检索的关键词\")\n",
    "\n",
    "\n",
    "def search_function(query: str):\n",
    "    return \"LangChain\"\n",
    "\n",
    "\n",
    "search1 = StructuredTool.from_function(\n",
    "    func=search_function,\n",
    "    name=\"Search\",\n",
    "    description=\"useful for when you need to answer questions about current events\",\n",
    "    args_schema=FieldInfo,\n",
    "    return_direct=True,\n",
    ")\n",
    "print(f\"name = {search1.name}\")\n",
    "print(f\"description = {search1.description}\")\n",
    "print(f\"args = {search1.args}\")\n",
    "print(f\"return_direct = {search1.return_direct}\")\n",
    "search1.invoke(\"hello\")"
   ],
   "id": "22ebfd28798dfebd",
   "outputs": [
    {
     "name": "stdout",
     "output_type": "stream",
     "text": [
      "name = Search\n",
      "description = useful for when you need to answer questions about current events\n",
      "args = {'query': {'description': '要检索的关键词', 'title': 'Query', 'type': 'string'}}\n",
      "return_direct = True\n"
     ]
    },
    {
     "data": {
      "text/plain": [
       "'LangChain'"
      ]
     },
     "execution_count": 6,
     "metadata": {},
     "output_type": "execute_result"
    }
   ],
   "execution_count": 6
  },
  {
   "metadata": {},
   "cell_type": "markdown",
   "source": [
    "# 工具调用结合LLM\n",
    "## 举例1：大模型分析是否调用工具"
   ],
   "id": "b76e53a79ca05083"
  },
  {
   "metadata": {
    "ExecuteTime": {
     "end_time": "2025-10-25T10:40:02.839687Z",
     "start_time": "2025-10-25T10:39:59.701231Z"
    }
   },
   "cell_type": "code",
   "source": [
    "#1.导入相关依赖\n",
    "from langchain_community.tools import MoveFileTool\n",
    "from langchain_core.messages import HumanMessage\n",
    "from langchain_core.utils.function_calling import convert_to_openai_function\n",
    "import os\n",
    "import dotenv\n",
    "from langchain_openai import ChatOpenAI\n",
    "\n",
    "dotenv.load_dotenv()\n",
    "os.environ['OPENAI_API_KEY'] = os.getenv(\"OPENAI_API_KEY\")\n",
    "os.environ['OPENAI_BASE_URL'] = os.getenv(\"OPENAI_BASE_URL\")\n",
    "# 2.定义LLM模型\n",
    "chat_model = ChatOpenAI(model=\"gpt-4o-mini\", temperature=0)"
   ],
   "id": "d756758e079ae51a",
   "outputs": [
    {
     "name": "stderr",
     "output_type": "stream",
     "text": [
      "D:\\develop\\miniconda\\Lib\\site-packages\\tqdm\\auto.py:21: TqdmWarning: IProgress not found. Please update jupyter and ipywidgets. See https://ipywidgets.readthedocs.io/en/stable/user_install.html\n",
      "  from .autonotebook import tqdm as notebook_tqdm\n",
      "None of PyTorch, TensorFlow >= 2.0, or Flax have been found. Models won't be available and only tokenizers, configuration and file/data utilities can be used.\n"
     ]
    }
   ],
   "execution_count": 7
  },
  {
   "metadata": {
    "ExecuteTime": {
     "end_time": "2025-10-25T10:40:38.990660Z",
     "start_time": "2025-10-25T10:40:38.025853Z"
    }
   },
   "cell_type": "code",
   "source": [
    "# 3.定义工具\n",
    "tools = [MoveFileTool()]\n",
    "# 4.这里需要将工具转换为openai函数，后续再将函数传入模型调用\n",
    "functions = [convert_to_openai_function(t) for t in tools]\n",
    "# print(functions[0])\n",
    "# 5. 提供大模型调用的消息列表\n",
    "messages = [HumanMessage(content=\"将文件a移动到桌面\")]\n",
    "# 6.模型使用函数\n",
    "# 说明：模型调用工具时，不接收tools，只接收functions，因此需要对tool做一个转换\n",
    "response = chat_model.invoke(\n",
    "    input=messages,\n",
    "    functions=functions\n",
    ")\n",
    "print(response)"
   ],
   "id": "3e419e63bb90a82",
   "outputs": [
    {
     "name": "stdout",
     "output_type": "stream",
     "text": [
      "content='' additional_kwargs={'function_call': {'arguments': '{\"source_path\":\"a\",\"destination_path\":\"/Users/YourUsername/Desktop/a\"}', 'name': 'move_file'}, 'refusal': None} response_metadata={'token_usage': {'completion_tokens': 27, 'prompt_tokens': 76, 'total_tokens': 103, 'completion_tokens_details': {'accepted_prediction_tokens': 0, 'audio_tokens': 0, 'reasoning_tokens': 0, 'rejected_prediction_tokens': 0}, 'prompt_tokens_details': {'audio_tokens': 0, 'cached_tokens': 0}}, 'model_provider': 'openai', 'model_name': 'gpt-4o-mini-2024-07-18', 'system_fingerprint': 'fp_efad92c60b', 'id': 'chatcmpl-CUVzKoykOal13Fg6DqOhLNngiLgW1', 'finish_reason': 'function_call', 'logprobs': None} id='lc_run--da2bf4e2-e912-46af-b220-17d91c29e0a4-0' usage_metadata={'input_tokens': 76, 'output_tokens': 27, 'total_tokens': 103, 'input_token_details': {'audio': 0, 'cache_read': 0}, 'output_token_details': {'audio': 0, 'reasoning': 0}}\n"
     ]
    }
   ],
   "execution_count": 8
  },
  {
   "metadata": {},
   "cell_type": "markdown",
   "source": "作为对比，让模型调用工具，传递用户输入，看模型是否会调用不相关的工具呢？",
   "id": "4c0b7592c7516b94"
  },
  {
   "metadata": {
    "ExecuteTime": {
     "end_time": "2025-10-25T10:43:29.654260Z",
     "start_time": "2025-10-25T10:43:28.478584Z"
    }
   },
   "cell_type": "code",
   "source": [
    "response = chat_model.invoke(\n",
    "    input=[HumanMessage(\"今天西安的天气怎么样呢？\")],\n",
    "    functions=functions\n",
    ")\n",
    "print(response)"
   ],
   "id": "d5b087746d875a80",
   "outputs": [
    {
     "name": "stdout",
     "output_type": "stream",
     "text": [
      "content='抱歉，我无法提供实时天气信息。建议你查看天气预报网站或使用天气应用程序获取西安今天的天气情况。' additional_kwargs={'refusal': None} response_metadata={'token_usage': {'completion_tokens': 31, 'prompt_tokens': 77, 'total_tokens': 108, 'completion_tokens_details': {'accepted_prediction_tokens': 0, 'audio_tokens': 0, 'reasoning_tokens': 0, 'rejected_prediction_tokens': 0}, 'prompt_tokens_details': {'audio_tokens': 0, 'cached_tokens': 0}}, 'model_provider': 'openai', 'model_name': 'gpt-4o-mini-2024-07-18', 'system_fingerprint': 'fp_efad92c60b', 'id': 'chatcmpl-CUW25OF8GqwleojpmGfUB6tEe2h9L', 'finish_reason': 'stop', 'logprobs': None} id='lc_run--24f81754-26d0-4c3f-8118-f4bd6ec4a12d-0' usage_metadata={'input_tokens': 77, 'output_tokens': 31, 'total_tokens': 108, 'input_token_details': {'audio': 0, 'cache_read': 0}, 'output_token_details': {'audio': 0, 'reasoning': 0}}\n"
     ]
    }
   ],
   "execution_count": 9
  },
  {
   "metadata": {},
   "cell_type": "markdown",
   "source": "可以看到模型输出结果中，没有`function_call`部分数据，`content`有输出了（没有合适工具可调用的相关提示）",
   "id": "ac97cca342cff56f"
  },
  {
   "metadata": {},
   "cell_type": "markdown",
   "source": [
    "## 工具调用说明\n",
    "现在模型调用工具有两种情况：\n",
    "\n",
    "**情况1：模型调用工具**\n",
    "\n",
    "如果模型认为需要调用工具（如 MoveFileTool ），返回的 `message` 会包含：\n",
    "* content：通常为空，因为模型选择调用工具，而非生成文本回复\n",
    "* additional_kwargs：会包含工具调用的详细信息\n",
    "```json\n",
    "AIMessage(\n",
    "    content='', # 无自然语言回复\n",
    "    additional_kwargs={\n",
    "        'function_call': {\n",
    "            'name': 'move_file', # 工具名称\n",
    "            'arguments':\n",
    "            '{\"source_path\":\"a\",\"destination_path\":\"/Users/YourUsername/Desktop/a\"}' # 工具参数\n",
    "        }\n",
    "    }\n",
    ")\n",
    "```\n",
    "\n",
    "**情况2：大模型不调用工具**\n",
    "\n",
    "如果模型认为无需调用工具（例如用户输入与工具无关），返回的 `message` 会是一段普通文本回复：\n",
    "```python\n",
    "AIMessage(\n",
    "    content='我没有找到需要移动的文件。', # 自然语言回复\n",
    "    additional_kwargs={'refusal': None} # 无工具调用\n",
    ")\n",
    "```"
   ],
   "id": "220d8e5485c3c736"
  },
  {
   "metadata": {},
   "cell_type": "markdown",
   "source": "## 举例2：确定工具并调用",
   "id": "b837bdc84e9858d1"
  },
  {
   "metadata": {
    "ExecuteTime": {
     "end_time": "2025-10-25T10:55:48.195134Z",
     "start_time": "2025-10-25T10:55:47.253695Z"
    }
   },
   "cell_type": "code",
   "source": [
    "# 定义LLM模型\n",
    "chat_model = ChatOpenAI(model=\"gpt-4o-mini\", temperature=0)\n",
    "# 定义工具\n",
    "tools = [MoveFileTool()]\n",
    "# 将工具转换为openai函数\n",
    "functions = [convert_to_openai_function(t) for t in tools]\n",
    "# 提供消息列表\n",
    "messages = [HumanMessage(content=\"将当前目录下的a.txt文件移动到我指定的目录下（D:\\\\tmp）\")]\n",
    "# 模型调用\n",
    "response = chat_model.invoke(\n",
    "    input=messages,\n",
    "    functions=functions\n",
    ")\n",
    "print(response)"
   ],
   "id": "c9211c5c1fbb235b",
   "outputs": [
    {
     "name": "stdout",
     "output_type": "stream",
     "text": [
      "content='' additional_kwargs={'function_call': {'arguments': '{\"source_path\":\"a.txt\",\"destination_path\":\"D:\\\\\\\\tmp\\\\\\\\a.txt\"}', 'name': 'move_file'}, 'refusal': None} response_metadata={'token_usage': {'completion_tokens': 27, 'prompt_tokens': 89, 'total_tokens': 116, 'completion_tokens_details': {'accepted_prediction_tokens': 0, 'audio_tokens': 0, 'reasoning_tokens': 0, 'rejected_prediction_tokens': 0}, 'prompt_tokens_details': {'audio_tokens': 0, 'cached_tokens': 0}}, 'model_provider': 'openai', 'model_name': 'gpt-4o-mini-2024-07-18', 'system_fingerprint': 'fp_efad92c60b', 'id': 'chatcmpl-CUWDz1JGINpmP8X6hT4v8SCUeADJI', 'finish_reason': 'function_call', 'logprobs': None} id='lc_run--c8fe0bae-fade-4ae2-9acd-d888b887b519-0' usage_metadata={'input_tokens': 89, 'output_tokens': 27, 'total_tokens': 116, 'input_token_details': {'audio': 0, 'cache_read': 0}, 'output_token_details': {'audio': 0, 'reasoning': 0}}\n"
     ]
    }
   ],
   "execution_count": 12
  },
  {
   "metadata": {},
   "cell_type": "markdown",
   "source": "**（1）检查是否需要调用工具**",
   "id": "91bac01474d87a8"
  },
  {
   "metadata": {
    "ExecuteTime": {
     "end_time": "2025-10-25T11:08:22.216167Z",
     "start_time": "2025-10-25T11:08:22.212722Z"
    }
   },
   "cell_type": "code",
   "source": [
    "# 是否需要调用工具\n",
    "is_invoke = False\n",
    "if \"function_call\" in response.additional_kwargs:\n",
    "    tool_name = response.additional_kwargs[\"function_call\"][\"name\"]\n",
    "    tool_args = response.additional_kwargs[\"function_call\"][\"arguments\"]\n",
    "    is_invoke = True\n",
    "    print(f\"调用工具: {tool_name}，参数: {tool_args}\")\n",
    "else:\n",
    "    print(f\"模型回复：{response.co}\")"
   ],
   "id": "5a26129780cd713b",
   "outputs": [
    {
     "name": "stdout",
     "output_type": "stream",
     "text": [
      "调用工具: move_file，参数: {\"source_path\":\"a.txt\",\"destination_path\":\"D:\\\\tmp\\\\a.txt\"}\n"
     ]
    }
   ],
   "execution_count": 21
  },
  {
   "metadata": {},
   "cell_type": "markdown",
   "source": "**（2）实际执行工具**",
   "id": "92185ef206d7abc3"
  },
  {
   "metadata": {
    "ExecuteTime": {
     "end_time": "2025-10-25T11:08:44.572602Z",
     "start_time": "2025-10-25T11:08:44.568566Z"
    }
   },
   "cell_type": "code",
   "source": [
    "if is_invoke:\n",
    "    tool = MoveFileTool()\n",
    "    result = tool.run(json.loads(tool_args))\n",
    "    print(f\"工具执行结果：{result}\")"
   ],
   "id": "de7d59acc2784021",
   "outputs": [
    {
     "name": "stdout",
     "output_type": "stream",
     "text": [
      "工具执行结果：File moved successfully from a.txt to D:\\tmp\\a.txt.\n"
     ]
    }
   ],
   "execution_count": 23
  }
 ],
 "metadata": {
  "kernelspec": {
   "display_name": "Python 3",
   "language": "python",
   "name": "python3"
  },
  "language_info": {
   "codemirror_mode": {
    "name": "ipython",
    "version": 2
   },
   "file_extension": ".py",
   "mimetype": "text/x-python",
   "name": "python",
   "nbconvert_exporter": "python",
   "pygments_lexer": "ipython2",
   "version": "2.7.6"
  }
 },
 "nbformat": 4,
 "nbformat_minor": 5
}
