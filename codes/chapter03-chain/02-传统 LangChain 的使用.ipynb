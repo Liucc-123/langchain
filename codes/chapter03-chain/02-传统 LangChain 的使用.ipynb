{
 "cells": [
  {
   "cell_type": "code",
   "execution_count": null,
   "id": "initial_id",
   "metadata": {
    "collapsed": true
   },
   "outputs": [],
   "source": [
    ""
   ]
  },
  {
   "metadata": {
    "ExecuteTime": {
     "end_time": "2025-10-23T12:50:01.497Z",
     "start_time": "2025-10-23T12:49:49.972443Z"
    }
   },
   "cell_type": "code",
   "source": [
    "\n",
    "from langchain_classic.chains.llm import LLMChain\n",
    "from langchain_core.prompts import ChatPromptTemplate\n",
    "from langchain_openai import ChatOpenAI\n",
    "from dotenv import load_dotenv\n",
    "import os\n",
    "\n",
    "load_dotenv()\n",
    "os.environ[\"OPENAI_API_KEY\"] = os.getenv(\"OPENAI_API_KEY\")\n",
    "os.environ[\"OPENAI_BASE_URL\"] = os.getenv(\"OPENAI_BASE_URL\")\n",
    "\n",
    "# 1、创建大模型实例\n",
    "chat_model = ChatOpenAI(model=\"gpt-4o-mini\")\n",
    "# 2、提示词模板\n",
    "prompt_template = ChatPromptTemplate.from_messages([\n",
    "    (\"system\", \"你是一个有用的助手\"),\n",
    "    (\"human\", \"{question}\")\n",
    "])\n",
    "# 3、创建 LLMChain\n",
    "chain = LLMChain(llm=chat_model, prompt=prompt_template)\n",
    "# 4、调用LLMChain，返回结果\n",
    "response = chain.invoke(input={\"question\": \"介绍一下 MCP 的核心流程\"})\n",
    "print(response)"
   ],
   "id": "7496dc248133d9fa",
   "outputs": [
    {
     "name": "stderr",
     "output_type": "stream",
     "text": [
      "C:\\Users\\Administrator\\AppData\\Local\\Temp\\ipykernel_24328\\975531280.py:19: LangChainDeprecationWarning: The class `LLMChain` was deprecated in LangChain 0.1.17 and will be removed in 1.0. Use `RunnableSequence, e.g., `prompt | llm`` instead.\n",
      "  chain = LLMChain(llm=chat_model, prompt=prompt_template)\n"
     ]
    },
    {
     "name": "stdout",
     "output_type": "stream",
     "text": [
      "{'question': '介绍一下 MCP 的核心流程', 'text': 'MCP（Model Checking Process，模型检测过程）是一种用于验证系统模型的技术，特别是在计算机科学和软件工程中。在这个过程中，通常有几个核心步骤，帮助确保系统的正确性和可靠性。以下是 MCP 的核心流程：\\n\\n1. **模型建构**：\\n   - 将被验证的系统或程序抽象为一个数学模型。这个模型通常是状态机（如有限状态机或抽象状态模型），它描述了系统的状态、状态之间的转换、输入和输出。\\n\\n2. **性质定义**：\\n   - 确定需要验证的性质或规格，这些通常以形式化语言（例如逻辑公式）表示。性质可以包括安全性（系统不会进入禁忌状态）和活跃性（系统终将达到某个期望状态）等。\\n\\n3. **状态空间生成**：\\n   - 根据模型和输入的性质，生成系统模型的状态空间。这个步骤可能会涉及状态压缩和抽象，以处理状态爆炸问题。\\n\\n4. **遍历和检查**：\\n   - 对生成的状态空间进行遍历，以检查是否满足所定义的性质。这一步骤有多种方法，比如深度优先搜索、宽度优先搜索、符号模型检查等。\\n\\n5. **结果分析**：\\n   - 分析遍历过程中得到的结果。如果发现某个性质被违反，通常会生成反例，帮助开发者理解问题所在。如果性质被满足，则可认为模型在特定条件下是正确的。\\n\\n6. **模型修正**：\\n   - 根据性质检查的结果和反例，修正模型或原始系统设计，直到模型满足所有关键性质。\\n\\n7. **循环迭代**：\\n   - 在模型修正之后，返回到模型建构或性质定义步骤，进行迭代，确保系统设计的持续改进和验证。\\n\\n这是模型检测过程的一般流程，具体应用中可能会有所不同，但这能有效帮助识别和纠正系统中的潜在问题。'}\n"
     ]
    }
   ],
   "execution_count": 1
  }
 ],
 "metadata": {
  "kernelspec": {
   "display_name": "Python 3",
   "language": "python",
   "name": "python3"
  },
  "language_info": {
   "codemirror_mode": {
    "name": "ipython",
    "version": 2
   },
   "file_extension": ".py",
   "mimetype": "text/x-python",
   "name": "python",
   "nbconvert_exporter": "python",
   "pygments_lexer": "ipython2",
   "version": "2.7.6"
  }
 },
 "nbformat": 4,
 "nbformat_minor": 5
}
