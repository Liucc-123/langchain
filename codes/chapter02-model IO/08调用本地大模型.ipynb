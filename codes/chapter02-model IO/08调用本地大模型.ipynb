{
 "cells": [
  {
   "metadata": {},
   "cell_type": "markdown",
   "source": [
    "# 调用本地部署大模型\n",
    "举例1："
   ],
   "id": "2dc8d7801ef353d3"
  },
  {
   "metadata": {
    "ExecuteTime": {
     "end_time": "2025-10-23T13:28:22.242333Z",
     "start_time": "2025-10-23T13:28:20.737514Z"
    }
   },
   "cell_type": "code",
   "source": [
    "from langchain_ollama import ChatOllama\n",
    "\n",
    "# # 调用本地模型服务，不需要传递 base_url 参数\n",
    "ollama_llm = ChatOllama(model=\"deepseek-r1:7b\", base_url=\"http://localhost:11434\")\n",
    "response = ollama_llm.invoke(\"介绍下你自己吧\")\n",
    "print(response.content)\n",
    "\n",
    "# # 如果ollama服务部署在另一台服务器上，那么在创建大模型实例时，需要传递 base_url 参数，通过ip:port的方式指明ollama服务所在位置。\n",
    "# ollama_llm = ChatOllama(model=\"deepseek-r1:7b\", base_url=\"http://192.168.31.74:11434\")\n",
    "# response = ollama_llm.invoke(\"介绍下你自己吧\")\n",
    "# print(response.content)"
   ],
   "id": "bf093282f2133129",
   "outputs": [
    {
     "name": "stdout",
     "output_type": "stream",
     "text": [
      "base_url: http://localhost:11434\n"
     ]
    }
   ],
   "execution_count": 9
  }
 ],
 "metadata": {
  "kernelspec": {
   "display_name": "Python 3",
   "language": "python",
   "name": "python3"
  },
  "language_info": {
   "codemirror_mode": {
    "name": "ipython",
    "version": 2
   },
   "file_extension": ".py",
   "mimetype": "text/x-python",
   "name": "python",
   "nbconvert_exporter": "python",
   "pygments_lexer": "ipython2",
   "version": "2.7.6"
  }
 },
 "nbformat": 4,
 "nbformat_minor": 5
}
